{
 "cells": [
  {
   "cell_type": "markdown",
   "metadata": {},
   "source": [
    "# Learning Table"
   ]
  },
  {
   "cell_type": "markdown",
   "metadata": {},
   "source": [
    "Table is a class that represents the learning table for the current stare of when an agent has to choose an action."
   ]
  },
  {
   "cell_type": "code",
   "execution_count": null,
   "metadata": {},
   "outputs": [],
   "source": [
    "import config as cfg\n",
    "import pygame"
   ]
  },
  {
   "cell_type": "code",
   "execution_count": null,
   "metadata": {},
   "outputs": [],
   "source": [
    "class Table(object):tcraft\n",
    "    \n",
    "    BORDER_SIZE = 5\n",
    "    FONT_SIZE = 15"
   ]
  },
  {
   "cell_type": "markdown",
   "metadata": {},
   "source": [
    "## Constructor"
   ]
  },
  {
   "cell_type": "code",
   "execution_count": null,
   "metadata": {},
   "outputs": [],
   "source": [
    "def __init__(self, background):\n",
    "    \n",
    "        self.background = background\n",
    "\n",
    "        # Set font type\n",
    "        self.font = pygame.font.SysFont('arial', Table.FONT_SIZE)\n",
    "\n",
    "        # Set positions and size of texts\n",
    "        self.left_text_x = 750\n",
    "        self.left_text_y = 200\n",
    "        self.right_text_x = 1000\n",
    "        self.right_text_y = 200\n",
    "\n",
    "        # Static text\n",
    "        self.text = []\n",
    "        count = 0\n",
    "        self.text.append(\"Q(state, col\"+str(count+1)+\")\")\n",
    "\n",
    "        # Set positions and size of a cell\n",
    "        cell_x = self.left_text_x - Table.FONT_SIZE * 3\n",
    "        cell_y = self.left_text_y - Table.FONT_SIZE\n",
    "        cell_width = len(self.text[0]) * Table.FONT_SIZE\n",
    "        cell_heigth = 3 * Table.FONT_SIZE\n",
    "\n",
    "        # Boarder\n",
    "        self.left_border = []\n",
    "        self.right_border = []\n",
    "        self.left_cell = []\n",
    "        self.right_cell = []\n",
    "\n",
    "        # Initialize border list and cell list\n",
    "        while count < cfg.BOARD_SIZE[1]:\n",
    "\n",
    "            if count!=0:\n",
    "                self.text.append(\"Q(state, col\"+str(count+1)+\")\")\n",
    "\n",
    "            ## Initialize list border\n",
    "            # Border left\n",
    "            border_x = cell_x-Table.BORDER_SIZE\n",
    "            border_y = cell_y-Table.BORDER_SIZE + count * 50\n",
    "            border_width = cell_width + 2 * Table.BORDER_SIZE\n",
    "            border_heigth = cell_heigth + 2 * Table.BORDER_SIZE\n",
    "\n",
    "            temp = pygame.Rect(border_x, border_y, border_width, border_heigth)\n",
    "            self.left_border.append(temp)\n",
    "\n",
    "            # Border right\n",
    "            border_x = border_x + cell_width+ 2 * Table.BORDER_SIZE\n",
    "\n",
    "            temp = pygame.Rect(border_x, border_y, border_width, border_heigth)\n",
    "            self.right_border.append(temp)\n",
    "\n",
    "            ## Initialize list cell\n",
    "            # Cell left\n",
    "            temp = pygame.Rect(cell_x, cell_y + count * 50, cell_width, cell_heigth)\n",
    "            self.left_cell.append(temp)\n",
    "\n",
    "            # Cell right\n",
    "            cell_right_x = cell_x + cell_width + Table.BORDER_SIZE\n",
    "            temp = pygame.Rect(cell_right_x, cell_y + count * 50, cell_width, cell_heigth)\n",
    "            self.right_cell.append(temp)\n",
    "\n",
    "            count+=1\n",
    "\n",
    "        self.draw_cell()\n",
    "        self.draw_static_text()"
   ]
  },
  {
   "cell_type": "markdown",
   "metadata": {},
   "source": [
    "## Methods"
   ]
  },
  {
   "cell_type": "code",
   "execution_count": null,
   "metadata": {},
   "outputs": [],
   "source": [
    "def draw_title(self):\n",
    "        # Draw title table\n",
    "        LEARNING_IMG = pygame.image.load(\"learning.png\")\n",
    "        learning_img_x = cfg.WINDOW_WIDTH + 150\n",
    "        learning_img_y = 100\n",
    "        self.background.blit(LEARNING_IMG,(learning_img_x, learning_img_y))"
   ]
  },
  {
   "cell_type": "code",
   "execution_count": null,
   "metadata": {},
   "outputs": [],
   "source": [
    "def draw_cell(self):\n",
    "        # A function that draws cells and their borders\n",
    "\n",
    "        count = 0\n",
    "        while count < cfg.BOARD_SIZE[1]:\n",
    "            # Draw boarder\n",
    "            pygame.draw.rect(self.background, cfg.DARK_BLUE, self.left_border[count], 0)\n",
    "            pygame.draw.rect(self.background, cfg.DARK_BLUE, self.right_border[count], 0)\n",
    "\n",
    "            # Draw cell\n",
    "            pygame.draw.rect(self.background, cfg.WHITE, self.left_cell[count], 0)\n",
    "            pygame.draw.rect(self.background, cfg.WHITE, self.right_cell[count], 0)\n",
    "\n",
    "            # Draw text left\n",
    "            qcol = self.font.render(self.text[count], True, cfg.BLACK)\n",
    "            self.background.blit(qcol, (self.left_text_x, self.left_text_y + count * 50))\n",
    "            count+=1"
   ]
  },
  {
   "cell_type": "code",
   "execution_count": null,
   "metadata": {},
   "outputs": [],
   "source": [
    "def draw_static_text(self):\n",
    "        # A function that draw static text\n",
    "\n",
    "        count = 0\n",
    "        while count < cfg.BOARD_SIZE[1]:\n",
    "            # Draw text left\n",
    "            qcol = self.font.render(self.text[count], True, cfg.BLACK)\n",
    "            self.background.blit(qcol, (self.left_text_x, self.left_text_y + count * 50))\n",
    "            count+=1\n"
   ]
  },
  {
   "cell_type": "code",
   "execution_count": null,
   "metadata": {},
   "outputs": [],
   "source": [
    "def update(self, qs):\n",
    "        # Update the elements for the main menu screen\n",
    "\n",
    "        self.draw_title()\n",
    "\n",
    "        # In this way the previous content is covered\n",
    "        self.draw_cell()\n",
    "\n",
    "        count = 0\n",
    "        while count < cfg.BOARD_SIZE[1]:\n",
    "\n",
    "            # Draw text right\n",
    "            qcol_value = self.font.render(str(qs[count]), True, cfg.BLACK)\n",
    "            self.background.blit(qcol_value, (self.right_text_x, self.right_text_y + count * 50))\n",
    "\n",
    "            count+=1"
   ]
  }
 ],
 "metadata": {
  "kernelspec": {
   "display_name": "Python 3",
   "language": "python",
   "name": "python3"
  },
  "language_info": {
   "codemirror_mode": {
    "name": "ipython",
    "version": 3
   },
   "file_extension": ".py",
   "mimetype": "text/x-python",
   "name": "python",
   "nbconvert_exporter": "python",
   "pygments_lexer": "ipython3",
   "version": "3.6.7"
  }
 },
 "nbformat": 4,
 "nbformat_minor": 2
}
